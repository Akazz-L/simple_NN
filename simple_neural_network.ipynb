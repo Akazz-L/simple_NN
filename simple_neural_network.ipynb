{
  "nbformat": 4,
  "nbformat_minor": 0,
  "metadata": {
    "colab": {
      "name": "simple_neural_network.ipynb",
      "provenance": [],
      "collapsed_sections": [],
      "authorship_tag": "ABX9TyPeNHRLt/9fOcFKH9fjxwQb",
      "include_colab_link": true
    },
    "kernelspec": {
      "name": "python3",
      "display_name": "Python 3"
    }
  },
  "cells": [
    {
      "cell_type": "markdown",
      "metadata": {
        "id": "view-in-github",
        "colab_type": "text"
      },
      "source": [
        "<a href=\"https://colab.research.google.com/github/Akazz-L/simple_NN/blob/master/simple_neural_network.ipynb\" target=\"_parent\"><img src=\"https://colab.research.google.com/assets/colab-badge.svg\" alt=\"Open In Colab\"/></a>"
      ]
    },
    {
      "cell_type": "markdown",
      "metadata": {
        "id": "oL5afDGDhTu6"
      },
      "source": [
        "#Neural network - Getting started\n",
        "\n",
        "---\n",
        "Getting good fundations on neural network's key concepts is required to understand more complex architecture. On this notebook, a simple neural network is built to give a better insight on notions like inputs forwarding, backpropagation, training parameters, learning rate ...\n",
        "\n",
        "The required knowledge is basic mathematical concepts and especially gradients' computation.\n",
        "\n",
        "For simplicity, the neural network is implemented with **Numpy** only. Below can be found the neural network we are going to train.\n",
        "\n"
      ]
    },
    {
      "cell_type": "markdown",
      "metadata": {
        "id": "zI4JM4xBimFb"
      },
      "source": [
        "**Neural network architecture** \n",
        " - Input layer ( 3 neurons)\n",
        " - Hidden layer 1 ( 2 neurons)\n",
        " - Output layer (2 neurons)\n",
        "\n",
        " The hidden layer and the output layer both have sigmoid function as activation function. Below are the equations that defines the layers. These equations are what the neural network uses to forward the inputs through the model.\n",
        "\n",
        "\n",
        "\n",
        "<center>\n",
        "\n",
        "![Texte alternatif…](https://drive.google.com/uc?id=1m3SGZju8yiXJYQ0HHba10xMujYrYoF28)\n",
        "\n",
        "</center>\n",
        "\n",
        "**Activation function (Sigmoid)**\n",
        "\n",
        "\\begin{equation*}\n",
        "σ(x) = \\frac{1}{1 + e^{-x}}\\\\ \n",
        "\\end{equation*}\n",
        "**Hidden layer**\n",
        "\n",
        "\\begin{align*}\n",
        " &\\text{first neuron} & &\\text{second neuron} \\\\ \\\\\n",
        "z_1 &= w_1x_1 + w_3x_2 + w_5x_3   + b_1 &  z_2 &= w_2x_1 + w_4x_2 + w_6x_3   + b_1  \\\\  \n",
        "a_1 &= \\frac{1}{1 + e^{-z_1}}& a_2 &= \\frac{1}{1 + e^{-z_2}}  \\\\  \n",
        "\\end{align*} \n",
        "\n",
        "**Output layer**\n",
        "\n",
        "\\begin{align*}\n",
        " &\\text{first neuron} & &\\text{second neuron} \\\\ \\\\\n",
        "z_o1 &= w_7a_1 + w_9a_2   + b_2 &  z_o2 &= w_8a_1 + w_10a_2   + b_2  \\\\  \n",
        "o_1 &= \\frac{1}{1 + e^{-z_o1}}& o_2 &= \\frac{1}{1 + e^{-z_o2}}  \\\\  \n",
        "\\end{align*} \n",
        "\n",
        "\n",
        "<ins>Initial weights and bias</ins>: <br /><br />\n",
        "The weights and the biases are the model's parameters we want to find using our samples data. In the training process, the weights will be updated helping the model to understand to what extent a specific input is important to the task we want to achieve. As we don't have any idea on the optimal values we randomly initialize the weights and the biases.\n",
        "\n",
        "\n",
        "$w1 = 0.1$ ;\n",
        "$w2 = 0.2$ ;\n",
        "$w3 = 0.3$ ;\n",
        "$w4 = 0.4$ ;\n",
        "$w5 = 0.5$ ;\n",
        "$w6 = 0.6$ ; \n",
        "$b1 = 0.5$ ;\n",
        "\n",
        "\n",
        "$w7 = 0.7$ ;\n",
        "$w8 = 0.8$ ;\n",
        "$w9 = 0.9$ ;\n",
        "$w10 = 0.1$ ;\n",
        "$b2 = 0.5$ ;\n",
        "\n",
        "<ins> Task Example sample</ins> : <br /><br />\n",
        "In this tutorial, we are considering a very simple task which is to **map one specific $\\mathbb{R}^3$ sample into $\\mathbb{R}^2$**.\n",
        "\n",
        "input :\n",
        "$x1 = 1$ ;\n",
        "$x2 = 4$ ;\n",
        "$x3 = 5$ ;\n",
        "\n",
        "target : \n",
        "$y1 = 0$ ;\n",
        "$y2 = 1$ ;\n"
      ]
    },
    {
      "cell_type": "code",
      "metadata": {
        "id": "RbqW6btRgMkW"
      },
      "source": [
        " # Import packages\n",
        "import numpy as np\n",
        "import matplotlib.pyplot as plt\n"
      ],
      "execution_count": null,
      "outputs": []
    },
    {
      "cell_type": "code",
      "metadata": {
        "id": "SJ9VFpinj720"
      },
      "source": [
        "# Initialize weights and bias\n",
        "def initParams():\n",
        "  w1 = 0.1\n",
        "  w2 = 0.2\n",
        "  w3 = 0.3\n",
        "  w4 = 0.4\n",
        "  w5 = 0.5\n",
        "  w6 = 0.6\n",
        "  b1 = 0.5\n",
        "\n",
        "  w7 = 0.7\n",
        "  w8 = 0.8\n",
        "  w9 = 0.9\n",
        "  w10 = 0.1\n",
        "  b2 = 0.5\n",
        "\n",
        "  weights = [w1,w2,w3,w4,w5,w6,w7,w8,w9,w10]\n",
        "  biases = [b1, b2]\n",
        "  return [weights, biases]\n",
        "\n",
        "weights, biases = initParams()"
      ],
      "execution_count": null,
      "outputs": []
    },
    {
      "cell_type": "code",
      "metadata": {
        "id": "6hGC_kVhkWMD"
      },
      "source": [
        "# Activation function - sigmoid\n",
        "def sigmoid(x):\n",
        "  return np.divide(1, (1 + np.exp(-x)))"
      ],
      "execution_count": null,
      "outputs": []
    },
    {
      "cell_type": "code",
      "metadata": {
        "id": "ktOfHK7WliF8"
      },
      "source": [
        "# Initialize sample\n",
        "x1 = 1\n",
        "x2 = 4\n",
        "x3 = 5\n",
        "\n",
        "sample = [x1, x2, x3]\n",
        "target = [0, 1]"
      ],
      "execution_count": null,
      "outputs": []
    },
    {
      "cell_type": "code",
      "metadata": {
        "id": "are8NyNwlb6N"
      },
      "source": [
        "# Forward input to the neural network\n",
        "def forward(input, weights, biases):\n",
        "  # weighted inputs\n",
        "  z1 = weights[0] * input[0] + weights[2] * input[1] + weights[4] * input[2] + biases[0]\n",
        "  z2 = weights[1] * input[0] + weights[3] * input[1] + weights[5] * input[2] + biases[0]\n",
        "  \n",
        "  # activation\n",
        "  a1 = sigmoid(z1) \n",
        "  a2 = sigmoid(z2)\n",
        "\n",
        "  # weighted hidden layer neurons\n",
        "  zo1 = weights[6] * a1 + weights[8] * a2 + biases[1]\n",
        "  zo2 = weights[7] * a1 + weights[9] * a2 + biases[1]\n",
        "\n",
        "  # final outputs\n",
        "  o1 = sigmoid(zo1)\n",
        "  o2 = sigmoid(zo2)\n",
        "\n",
        "  return a1,a2, o1, o2\n",
        "\n",
        "  "
      ],
      "execution_count": null,
      "outputs": []
    },
    {
      "cell_type": "markdown",
      "metadata": {
        "id": "ccJlRWdAIqC8"
      },
      "source": [
        "###Loss function\n",
        "The loss function quantifies how close the neural network's output is from the target's value. This value is the last computation the network does before actually learning from the sample and updating the network \"knowledge\" through backpropagation and network's parameters update. In the below example we use the Mean-Square Error as loss function.\n",
        "\n",
        "\\begin{equation*}\n",
        "\\text{General equation} \\hspace{10mm}     MSE = \\frac{1}{n}{\\sum\\limits_{i=1}^n (predicted_i - target_i)^2} \\\\\n",
        "\\end{equation*}\n",
        "\n",
        "\\begin{equation*}\n",
        "\\text{One-sample equation} \\hspace{10mm}     MSE = \\frac{1}{2}{(o_1-y_1) ^2 + (o_2-y_2) ^2}\n",
        "\\end{equation*}\n",
        "\n",
        "\n"
      ]
    },
    {
      "cell_type": "code",
      "metadata": {
        "id": "rlrWwvc6pI3X"
      },
      "source": [
        "# Calculate mse loss from the output and the target\n",
        "\n",
        "def mse_loss(outputs, targets):\n",
        "  return 0.5 * ( np.power(outputs[0] - targets[0], 2)  + np.power(outputs[1] - targets[1], 2))"
      ],
      "execution_count": null,
      "outputs": []
    },
    {
      "cell_type": "markdown",
      "metadata": {
        "id": "gSE5eETgJToC"
      },
      "source": [
        "###Backpropagation\n",
        "Once the loss is computed from the sample input, weights must be updated progressively from the network's outputs to the inputs using gradient descent technique.\n",
        "\n",
        "Lets take an example on weight $w_7$. <br> \n",
        "$\\frac{\\partial L}{\\partial w_7} = \\frac{\\partial L}{\\partial o_1} . \\frac{\\partial o_1}{\\partial z_o1}.\\frac{\\partial z_o1}{\\partial w_7} $ \n",
        "\n",
        "Where : <br><br>\n",
        "$\\frac{\\partial z_o1}{\\partial w_7}  = a_1$  which is the result of the hidden layer activation function during the sample forwarding phase<br><br>\n",
        "$\\frac{\\partial o_1}{\\partial z_o1}  = σ(z_o1) * (1 - σ(z_o1)) = o_1 * (1 - o_1)$  <br><br>\n",
        "$ \\frac{\\partial L}{\\partial o_1} = o_1 - y_1$ <br><br>\n",
        "\n",
        "After computing all the weights and biases gradients, they can be updated depending on the learning rate which represent how fast the parameters should be updated.\n",
        "\n",
        "For example $w_7$ will be updated using the following expression :\n",
        "  $ w_7 = w_7 - $ learning_rate $. \\frac{\\partial L}{\\partial w_7} $"
      ]
    },
    {
      "cell_type": "code",
      "metadata": {
        "id": "ustHTwcFzgAB"
      },
      "source": [
        "# Backpropation\n",
        "# Compute gradients for each parameters (weights and bias)\n",
        "\n",
        "def backpropagate(weights,hidden_activations, outputs, targets):\n",
        "  weights_grad = []\n",
        "  biases_grad = []\n",
        "\n",
        "  ##### Output layer weights and bias\n",
        "\n",
        "  # Calculate dL / dw7 \n",
        "  dL_do1 = outputs[0] - targets[0]\n",
        "  do1_dzo1 = outputs[0] * (1 - outputs[0])\n",
        "  dzo1_dw7 = hidden_activations[0]\n",
        "\n",
        "  dL_dw7 = dL_do1 * do1_dzo1 * dzo1_dw7\n",
        "\n",
        "  # Calculate dL / dw8 \n",
        "  dL_do2 = outputs[1] - targets[1]\n",
        "  do2_dzo2 = outputs[1] * (1 - outputs[1])\n",
        "  dzo2_dw8 = hidden_activations[0]\n",
        "\n",
        "  dL_dw8 = dL_do2 * do2_dzo2 * dzo2_dw8\n",
        "\n",
        "  # Calculate dL / dw9 \n",
        "  dzo1_dw9 = hidden_activations[1]\n",
        "\n",
        "  dL_dw9 = dL_do1 * do1_dzo1 * dzo1_dw9\n",
        "\n",
        "  # Calculate dL / dw9 \n",
        "  dzo2_dw10 = hidden_activations[1]\n",
        "\n",
        "  dL_dw10 = dL_do2 * do2_dzo2 * dzo2_dw10\n",
        "\n",
        "  # Calculate dL / db2\n",
        "  dzo1_db2 = 1\n",
        "  dzo2_db2 = 1\n",
        "  dL_db2 = dL_do1 * do1_dzo1 * dzo1_db2 + dL_do2 * do2_dzo2 * dzo2_db2\n",
        "\n",
        "  ##### Hidden layer weights and bias\n",
        "\n",
        "  # Calculate w1, w3, w5 gradients\n",
        "  # 1. Calculate dL / da1\n",
        "  dzo1_da1 = weights[6] #w7\n",
        "  dzo2_da1 = weights[7] #w8\n",
        "  dL_da1 = dzo1_da1 * do1_dzo1 * dL_do1 + dzo2_da1 * do2_dzo2 * dL_do2\n",
        "  # 2. Calculate gradients that depends on activation 1 (a1) :  dL / dw1, dL / dw3, dL / dw5\n",
        "  da1_dz1 = hidden_activations[0] * (1 - hidden_activations[0])\n",
        "\n",
        "  dz1_dw1 = x1\n",
        "  dL_dw1 = dL_da1 * da1_dz1 * dz1_dw1\n",
        "\n",
        "  dz1_dw3 = x2\n",
        "  dL_dw3 = dL_da1 * da1_dz1 * dz1_dw3\n",
        "\n",
        "  dz1_dw5 = x3\n",
        "  dL_dw5 = dL_da1 * da1_dz1 * dz1_dw5\n",
        "\n",
        "  # Calculate w2, w4, w6 gradients\n",
        "  # 1. Calculate dL / da2\n",
        "  dzo1_da2 = weights[8] #w9\n",
        "  dzo2_da2 = weights[9] #w10\n",
        "  dL_da2 = dzo1_da2 * do1_dzo1 * dL_do1 + dzo2_da2 * do2_dzo2 * dL_do2\n",
        "\n",
        "  # 2. Calculate gradients that depends on activation 2 (a2) : dL / dw2, dL / dw4, dL / dw6\n",
        "  da2_dz2 = hidden_activations[1] * (1 - hidden_activations[1])\n",
        "\n",
        "  dz2_dw2 = x1\n",
        "  dL_dw2 = dL_da2 * da2_dz2 * dz2_dw2\n",
        "\n",
        "  dz2_dw4 = x2\n",
        "  dL_dw4 = dL_da2 * da2_dz2 * dz2_dw4\n",
        "\n",
        "  dz2_dw6 = x3\n",
        "  dL_dw6 = dL_da2 * da2_dz2 * dz2_dw6\n",
        "\n",
        "\n",
        "  # Calculate dL / db1\n",
        "  dz1_db1 = 1\n",
        "  dz2_db1 = 1\n",
        "\n",
        "  dL_db1 = (dz1_db1 * da1_dz1 * dzo1_da1 * do1_dzo1 * dL_do1 )+ (dz2_db1 * da2_dz2 * dzo2_da2 * do2_dzo2 * dL_do2)\n",
        "\n",
        "  # Push weights and biases\n",
        "  weights_grad = [dL_dw1, dL_dw2, dL_dw3, dL_dw4, dL_dw5, dL_dw6, dL_dw7, dL_dw8, dL_dw9, dL_dw10]\n",
        "  biases_grad =  [dL_db1, dL_db2]\n",
        "\n",
        "  return weights_grad, biases_grad\n"
      ],
      "execution_count": null,
      "outputs": []
    },
    {
      "cell_type": "code",
      "metadata": {
        "id": "ATTOHM-g_hED"
      },
      "source": [
        "# Update weights and biases using the gradients computed during the backprogation\n",
        "\n",
        "def updateParams(weights, weights_grad, biases, biases_grad,learning_rate):\n",
        "  weights[0] = weights[0] - learning_rate * weights_grad[0]\n",
        "  weights[1] = weights[1] - learning_rate * weights_grad[1]\n",
        "  weights[2] = weights[2] - learning_rate * weights_grad[2]\n",
        "  weights[3] = weights[3] - learning_rate * weights_grad[3]\n",
        "  weights[4] = weights[4] - learning_rate * weights_grad[4]\n",
        "  weights[5] = weights[5] - learning_rate * weights_grad[5]\n",
        "  weights[6] = weights[6] - learning_rate * weights_grad[6]\n",
        "  weights[7] = weights[7] - learning_rate * weights_grad[7]\n",
        "  weights[8] = weights[8] - learning_rate * weights_grad[8]\n",
        "  weights[9] = weights[9] - learning_rate * weights_grad[9]\n",
        "\n",
        "\n",
        "  biases[0] = biases[0] - learning_rate * biases_grad[0] \n",
        "  biases[1] = biases[1] - learning_rate * biases_grad[1]\n",
        "\n",
        "  return weights, biases"
      ],
      "execution_count": null,
      "outputs": []
    },
    {
      "cell_type": "markdown",
      "metadata": {
        "id": "nv_8QX6kLqE2"
      },
      "source": [
        "#Training\n",
        "\n",
        "For this tutorial, **we will train the model on only one sample which means the model is going to learn the best weights and biases to output the target's values for this specific sample**. Training a neural network can be boiled down to 4 steps :\n",
        "\n",
        "\n",
        "1.   Forward the inputs through the network\n",
        "2.   Calculate the loss\n",
        "3.   Backpropagation\n",
        "4.   Update the parameters\n"
      ]
    },
    {
      "cell_type": "code",
      "metadata": {
        "id": "nDgQaYiSMQLS"
      },
      "source": [
        "# Define the number of iterations \n",
        "NB_ITER = 1000\n",
        "LEARNING_RATE = 0.01\n",
        "\n",
        "losses = []\n",
        "\n",
        "# Train the model by forwarding the sample into the model -NB_ITER times\n",
        "\n",
        "def train(nb_iterations, sample, target, weights, biases):\n",
        "\n",
        "  for i in range(NB_ITER):\n",
        "    # 1. Forward the input into the network\n",
        "    a1, a2, o1, o2 = forward(sample, weights, biases)\n",
        "    hidden_activations = [a1,a2]\n",
        "    outputs = [o1,o2]\n",
        "\n",
        "    # 2. Calculate the loss error\n",
        "    error = mse_loss(outputs, target)\n",
        "    losses.append(error)\n",
        "\n",
        "    # 3. Backpropagate and compute the gradients\n",
        "    weights_grad, biases_grad = backpropagate(weights,hidden_activations, outputs, target)\n",
        "\n",
        "    # 4. Update the parameters\n",
        "    weights, biases = updateParams(weights, weights_grad, biases, biases_grad, LEARNING_RATE)\n",
        "\n",
        "\n",
        "  # Plot loss function\n",
        "  plt.plot(losses)\n",
        "  plt.title(\"Loss function\")\n",
        "  plt.show()\n"
      ],
      "execution_count": null,
      "outputs": []
    },
    {
      "cell_type": "code",
      "metadata": {
        "id": "wTY0ED1ePspY",
        "outputId": "466899f9-2ee4-45d8-f986-f2e0cf9992c9",
        "colab": {
          "base_uri": "https://localhost:8080/",
          "height": 281
        }
      },
      "source": [
        "# By running this cell more than once, the loss is going to decrease more and more and the model will finally achieve more accurate result on the sample target prediction\n",
        "\n",
        "train(NB_ITER, sample, target, weights, biases)\n",
        "\n"
      ],
      "execution_count": null,
      "outputs": [
        {
          "output_type": "display_data",
          "data": {
            "image/png": "[encoded data removed]",
            "text/plain": [
              "<Figure size 432x288 with 1 Axes>"
            ]
          },
          "metadata": {
            "tags": [],
            "needs_background": "light"
          }
        }
      ]
    },
    {
      "cell_type": "markdown",
      "metadata": {
        "id": "jNjgH8XTRJ_i"
      },
      "source": [
        "# Inference"
      ]
    },
    {
      "cell_type": "code",
      "metadata": {
        "id": "Bf0e4wn2SxOX",
        "outputId": "f5a5d13a-2e07-4aed-be43-c86d72bb8c47",
        "colab": {
          "base_uri": "https://localhost:8080/",
          "height": 110
        }
      },
      "source": [
        "# The inference is the model's prediction on one specific sample. No weights update is done here.\n",
        "# When the running cell is run several times, the first output is decreasing to 0 and the second output is increasing to 1 which are the target value.\n",
        "_, _, o1,o2 = forward(sample,weights,biases)\n",
        "print(\" Current Model Weights : {}\".format(weights))\n",
        "print(\" Current Model Biases : {}\".format(biases))\n",
        "print(\"Outputs : {}, {}\".format(o1,o2))\n",
        "print(\"Targets : {}, {}\".format(target[0], target[1]))\n",
        "\n"
      ],
      "execution_count": null,
      "outputs": [
        {
          "output_type": "stream",
          "text": [
            " Current Model Weights : [0.10877894184345083, 0.19858406291646138, 0.3351157673738029, 0.39433625166584874, 0.5438947092172512, 0.592920314582307, -1.1923150211797253, 1.8139652404391722, -1.0337286258467253, 1.1617168626701866]\n",
            " Current Model Biases : [0.49164167782683604, -0.3753406834922189]\n",
            "Outputs : 0.07012867904002121, 0.9293773431188104\n",
            "Targets : 0, 1\n"
          ],
          "name": "stdout"
        }
      ]
    },
    {
      "cell_type": "markdown",
      "metadata": {
        "id": "01ZToZzWBFqz"
      },
      "source": [
        "# Parameters initialization\n",
        "The neural network weights and biases intialization is important regarding the training speed. On the previous example, with the random parameters, it takes approximately 1500 iterations to reach convergence. If weights based on assumptions are used the traning time can be a lot faster.\n",
        "\n"
      ]
    },
    {
      "cell_type": "code",
      "metadata": {
        "id": "YYJe7J8tCz10"
      },
      "source": [
        "# Initialize weights and biases with the their values after 7000 iterations\n",
        "weights = [0.10877894184345083, 0.19858406291646138, 0.3351157673738029, 0.39433625166584874, 0.5438947092172512, 0.592920314582307, -1.1923150211797253, 1.8139652404391722, -1.0337286258467253, 1.1617168626701866]\n",
        "biases = [0.49164167782683604, -0.3753406834922189]\n",
        "losses = []\n"
      ],
      "execution_count": null,
      "outputs": []
    },
    {
      "cell_type": "code",
      "metadata": {
        "id": "YterS-46DK3I",
        "outputId": "8168b912-0646-42a0-f172-fd60fd86faae",
        "colab": {
          "base_uri": "https://localhost:8080/",
          "height": 53
        }
      },
      "source": [
        "# Lets infer on this new model's parameters initialization. \n",
        "# Because the weights/biases are correctly initialized, the model prediction are quite accurate without any training.\n",
        "_, _, o1,o2 = forward(sample,weights,biases)\n",
        "print(\"Outputs : {}, {}\".format(o1,o2))\n",
        "print(\"Targets : {}, {}\".format(target[0], target[1]))"
      ],
      "execution_count": null,
      "outputs": [
        {
          "output_type": "stream",
          "text": [
            "Outputs : 0.07012867904002121, 0.9293773431188104\n",
            "Targets : 0, 1\n"
          ],
          "name": "stdout"
        }
      ]
    },
    {
      "cell_type": "markdown",
      "metadata": {
        "id": "eGt12nuGD0ev"
      },
      "source": [
        "#Learning rate effects\n",
        "The learning rate sets how big the step toward the loss minimum will be during each training iterations."
      ]
    },
    {
      "cell_type": "code",
      "metadata": {
        "id": "bFVoq4QjEH32",
        "outputId": "55aee347-f36e-4c2d-a438-adfd72463feb",
        "colab": {
          "base_uri": "https://localhost:8080/",
          "height": 1000
        }
      },
      "source": [
        "\n",
        "NB_ITER = 1000\n",
        "learning_rates = [1,0.1,0.01,.001,.001]\n",
        "\n",
        "for index, learning_rate in enumerate(learning_rates):\n",
        "  weights, biases = initParams()\n",
        "  losses = []\n",
        "\n",
        "  # Training\n",
        "  for i in range(NB_ITER):\n",
        "    # Forward the input into the network\n",
        "    a1, a2, o1, o2 = forward(sample, weights, biases)\n",
        "    hidden_activations = [a1,a2]\n",
        "    outputs = [o1,o2]\n",
        "\n",
        "    # Calculate the loss error\n",
        "    error = mse_loss(outputs, target)\n",
        "    losses.append(error)\n",
        "\n",
        "    # Backpropagate and compute the gradients\n",
        "    weights_grad, biases_grad = backpropagate(weights,hidden_activations, outputs, target)\n",
        "\n",
        "    # Update the parameters\n",
        "    weights, biases = updateParams(weights, weights_grad, biases, biases_grad, learning_rate)\n",
        "\n",
        "\n",
        "  # Plot loss function\n",
        "  plt.plot(losses)\n",
        "  plt.title(\"Loss function {}\".format(index))\n",
        "  plt.show()"
      ],
      "execution_count": null,
      "outputs": [
        {
          "output_type": "display_data",
          "data": {
            "image/png": "[encoded data removed]",
            "text/plain": [
              "<Figure size 432x288 with 1 Axes>"
            ]
          },
          "metadata": {
            "tags": [],
            "needs_background": "light"
          }
        },
        {
          "output_type": "display_data",
          "data": {
            "image/png": "[encoded data removed]",
            "text/plain": [
              "<Figure size 432x288 with 1 Axes>"
            ]
          },
          "metadata": {
            "tags": [],
            "needs_background": "light"
          }
        },
        {
          "output_type": "display_data",
          "data": {
            "image/png": "[encoded data removed]",
            "text/plain": [
              "<Figure size 432x288 with 1 Axes>"
            ]
          },
          "metadata": {
            "tags": [],
            "needs_background": "light"
          }
        },
        {
          "output_type": "display_data",
          "data": {
            "image/png": "[encoded data removed]",
            "text/plain": [
              "<Figure size 432x288 with 1 Axes>"
            ]
          },
          "metadata": {
            "tags": [],
            "needs_background": "light"
          }
        },
        {
          "output_type": "display_data",
          "data": {
            "image/png": "[encoded data removed]",
            "text/plain": [
              "<Figure size 432x288 with 1 Axes>"
            ]
          },
          "metadata": {
            "tags": [],
            "needs_background": "light"
          }
        }
      ]
    }
  ]
}